{
  "nbformat": 4,
  "nbformat_minor": 0,
  "metadata": {
    "colab": {
      "provenance": [],
      "include_colab_link": true
    },
    "kernelspec": {
      "name": "python3",
      "display_name": "Python 3"
    },
    "language_info": {
      "name": "python"
    }
  },
  "cells": [
    {
      "cell_type": "markdown",
      "metadata": {
        "id": "view-in-github",
        "colab_type": "text"
      },
      "source": [
        "<a href=\"https://colab.research.google.com/github/Crisant01/sistemas-de-control-virtual/blob/main/Ejercicios_6to_2022.ipynb\" target=\"_parent\"><img src=\"https://colab.research.google.com/assets/colab-badge.svg\" alt=\"Open In Colab\"/></a>"
      ]
    },
    {
      "cell_type": "markdown",
      "source": [
        "En estos ejercicios vamos a trabajar cosas que nos permitan empezar a programar usando Python.\n",
        "\n",
        "La idea es que ustedes vayan resolviendo los ejercicios sin la necesidad de instalarse nada en sus computadoras. Antes que nada, creen una copia de este archivo en su Google Drive para tener permisos de edición, luego pueden compartirlo conmigo, para poder corregirlo antes de ser necesario. \n",
        "La entrega se sigue haciendo a través del Classroom, siendo individual la entrega.\n",
        "Tengan cuidado con los permisos al momento de compartir!!!!!!!."
      ],
      "metadata": {
        "id": "XiIsCluql9p3"
      }
    },
    {
      "cell_type": "markdown",
      "source": [
        "Ingresar 2 valores, hallar e informar el mayor de ellos, si son iguales, informarlo"
      ],
      "metadata": {
        "id": "ThrBTlPmjTJC"
      }
    },
    {
      "cell_type": "code",
      "source": [
        "x=int(input())\n",
        "y=int(input())\n",
        "\n",
        "if a>b:\n",
        "  print(\"x>y\")\n",
        "elif b>a:\n",
        "  print(\"y>x\")\n",
        "else:\n",
        "  print(\"x=y\")"
      ],
      "metadata": {
        "id": "Ho9qp7aOjYrw"
      },
      "execution_count": null,
      "outputs": []
    },
    {
      "cell_type": "markdown",
      "source": [
        "Ingresar 3 valores distintos, informar el mayor"
      ],
      "metadata": {
        "id": "a9aHUJw8jVty"
      }
    },
    {
      "cell_type": "code",
      "source": [
        "minote=[]\n",
        "for i in range(3):\n",
        "  minote.append(int(input()))\n",
        "\n",
        "print(max(minote))"
      ],
      "metadata": {
        "id": "Jwd0SZynjhd-"
      },
      "execution_count": null,
      "outputs": []
    },
    {
      "cell_type": "markdown",
      "source": [
        "Ingresar 3 valores, todos distintos, informarlos en orden decreciente"
      ],
      "metadata": {
        "id": "mUefyq88jjow"
      }
    },
    {
      "cell_type": "code",
      "source": [
        "minote=[]\n",
        "\n",
        "for i in range(3):\n",
        "  j=int(input(\"mete un numero makina: \"))\n",
        "  while(j in minote):\n",
        "    j=int(input(\"ese numero ya esta makina, mete uno nuevo: \"))\n",
        "  minote.append(j)\n",
        "  minote.sort()  \n",
        "\n",
        "print(minote)\n",
        "\n"
      ],
      "metadata": {
        "id": "Pj_B5s-2jmyd",
        "colab": {
          "base_uri": "https://localhost:8080/"
        },
        "outputId": "51f2e7b5-679b-43cf-abf3-aaeee5ffd856"
      },
      "execution_count": 1,
      "outputs": [
        {
          "output_type": "stream",
          "name": "stdout",
          "text": [
            "mete un numero krac: 12\n",
            "mete un numero krac: 12\n",
            "mete un numero krac: 12\n",
            "[]\n"
          ]
        }
      ]
    },
    {
      "cell_type": "markdown",
      "source": [
        "Ingresar 3 valores que corresponden a los ángulos de un triángulo. Determinar e informar si pueden formar un triángulo y en ese caso si es equilátero, isósceles o escaleno."
      ],
      "metadata": {
        "id": "cuP29qdOjnXM"
      }
    },
    {
      "cell_type": "code",
      "source": [
        "angulo=[]\n",
        "\n",
        "for i in range(3):\n",
        "  angulo.append(int(input()))\n",
        "\n",
        "if sum(angulo)==180:\n",
        "  if angulo[0]==angulo[1] and angulo[1]==angulo[2]:\n",
        "    print(\"Es equilátero\")\n",
        "  elif angulo[0]!=angulo[1]!=angulo[2]:\n",
        "    print(\"Es escaleno\")\n",
        "  else:\n",
        "    print(\"Es iscóceles\")"
      ],
      "metadata": {
        "id": "N1A6B1gsj0hw"
      },
      "execution_count": null,
      "outputs": []
    },
    {
      "cell_type": "markdown",
      "source": [
        "Ingresar las coordenadas de X e Y de un plano, determinar e informar si el punto está en el origen, si esta sobre algún semieje (indicar en cuál) o si esta sobre algún cuadrante (indicar cuál)"
      ],
      "metadata": {
        "id": "R1gZkNsxj77z"
      }
    },
    {
      "cell_type": "code",
      "source": [
        "from logging import exception\n",
        "import math\n",
        "def menu ():\n",
        "  vec=[]\n",
        "  mess= \"es semieje crack \"\n",
        "\n",
        "  for i in range(2):\n",
        "    j=int(input())\n",
        "    if j!=0:j=j/abs(j)\n",
        "    vec.append(j)\n",
        "\n",
        "  a = [[1,1],[-1,1],[-1,-1],[1,-1]]\n",
        "  b = ['X','Y']\n",
        "\n",
        "  try:\n",
        "    print(f'es cuadrante rey {a.index(vec)+1}')\n",
        "  except:\n",
        "    if sum(vec)==0:\n",
        "      print(\"es en origen rey\")\n",
        "      return 0\n",
        "    elif sum(vec)==1: mess+='+'\n",
        "    else: mess+='-'\n",
        "    mess+=b[vec.index(0)-1]  \n",
        "    print(mess)\n",
        "  \n",
        "menu()"
      ],
      "metadata": {
        "id": "rsm6yk-Ak6Do",
        "colab": {
          "base_uri": "https://localhost:8080/"
        },
        "outputId": "a5b0e463-df37-4b1c-a084-bac337b2abfe"
      },
      "execution_count": 3,
      "outputs": [
        {
          "output_type": "stream",
          "name": "stdout",
          "text": [
            "0\n",
            "0\n",
            "es en origen rey\n"
          ]
        },
        {
          "output_type": "execute_result",
          "data": {
            "text/plain": [
              "0"
            ]
          },
          "metadata": {},
          "execution_count": 3
        }
      ]
    },
    {
      "cell_type": "markdown",
      "source": [
        "Ingresar 20 valores, informar la suma y promedio de valores ingresados"
      ],
      "metadata": {
        "id": "iONpLTxkk1vq"
      }
    },
    {
      "cell_type": "code",
      "source": [
        "minote = []\n",
        "aux = []\n",
        "while len(minote)<20:\n",
        "  minote.append(int(input()))\n",
        "aux.append(sum(minote))\n",
        "aux.append(aux[0]/len(minote))\n",
        "\n",
        "print(' '.join(map(str,aux)))"
      ],
      "metadata": {
        "id": "okQxN86fkDYn",
        "colab": {
          "base_uri": "https://localhost:8080/"
        },
        "outputId": "21df962d-ddec-4608-b3c5-06b16f707aef"
      },
      "execution_count": 6,
      "outputs": [
        {
          "output_type": "stream",
          "name": "stdout",
          "text": [
            "12\n",
            "12\n",
            "2\n",
            "21\n",
            "12\n",
            "12\n",
            "2\n",
            "3\n",
            "3\n",
            "6\n",
            "100\n",
            "12\n",
            "23\n",
            "4\n",
            "3\n",
            "1\n",
            "2\n",
            "2\n",
            "2\n",
            "2\n",
            "236 11.8\n"
          ]
        }
      ]
    },
    {
      "cell_type": "markdown",
      "source": [
        "Ingresar 100 valores, informar el mayor ingresado, el menor ingresado y el orden en que fue ingresado cada uno"
      ],
      "metadata": {
        "id": "c82rPOE0kElb"
      }
    },
    {
      "cell_type": "code",
      "source": [
        "lista = []\n",
        "while len(lista)<100:\n",
        "  lista.append(int(input()))\n",
        "\n",
        "aux=[max(lista),min(lista),lista.index(aux[0]),lista.index(aux[1])]\n",
        "print(' '.join(map(str,aux)))"
      ],
      "metadata": {
        "id": "oVSrLCXkkI3F",
        "colab": {
          "base_uri": "https://localhost:8080/",
          "height": 397
        },
        "outputId": "8d79c705-4637-410f-850c-30192ed16c33"
      },
      "execution_count": 8,
      "outputs": [
        {
          "name": "stdout",
          "output_type": "stream",
          "text": [
            "234\n"
          ]
        },
        {
          "output_type": "error",
          "ename": "KeyboardInterrupt",
          "evalue": "ignored",
          "traceback": [
            "\u001b[0;31m---------------------------------------------------------------------------\u001b[0m",
            "\u001b[0;31mKeyboardInterrupt\u001b[0m                         Traceback (most recent call last)",
            "\u001b[0;32m<ipython-input-8-cfa8b9871839>\u001b[0m in \u001b[0;36m<module>\u001b[0;34m\u001b[0m\n\u001b[1;32m      1\u001b[0m \u001b[0mlista\u001b[0m \u001b[0;34m=\u001b[0m \u001b[0;34m[\u001b[0m\u001b[0;34m]\u001b[0m\u001b[0;34m\u001b[0m\u001b[0;34m\u001b[0m\u001b[0m\n\u001b[1;32m      2\u001b[0m \u001b[0;32mwhile\u001b[0m \u001b[0mlen\u001b[0m\u001b[0;34m(\u001b[0m\u001b[0mlista\u001b[0m\u001b[0;34m)\u001b[0m\u001b[0;34m<\u001b[0m\u001b[0;36m100\u001b[0m\u001b[0;34m:\u001b[0m\u001b[0;34m\u001b[0m\u001b[0;34m\u001b[0m\u001b[0m\n\u001b[0;32m----> 3\u001b[0;31m   \u001b[0mlista\u001b[0m\u001b[0;34m.\u001b[0m\u001b[0mappend\u001b[0m\u001b[0;34m(\u001b[0m\u001b[0mint\u001b[0m\u001b[0;34m(\u001b[0m\u001b[0minput\u001b[0m\u001b[0;34m(\u001b[0m\u001b[0;34m)\u001b[0m\u001b[0;34m)\u001b[0m\u001b[0;34m)\u001b[0m\u001b[0;34m\u001b[0m\u001b[0;34m\u001b[0m\u001b[0m\n\u001b[0m\u001b[1;32m      4\u001b[0m \u001b[0;34m\u001b[0m\u001b[0m\n\u001b[1;32m      5\u001b[0m \u001b[0maux\u001b[0m\u001b[0;34m=\u001b[0m\u001b[0;34m[\u001b[0m\u001b[0mmax\u001b[0m\u001b[0;34m(\u001b[0m\u001b[0mlista\u001b[0m\u001b[0;34m)\u001b[0m\u001b[0;34m,\u001b[0m\u001b[0mmin\u001b[0m\u001b[0;34m(\u001b[0m\u001b[0mlista\u001b[0m\u001b[0;34m)\u001b[0m\u001b[0;34m,\u001b[0m\u001b[0mlista\u001b[0m\u001b[0;34m.\u001b[0m\u001b[0mindex\u001b[0m\u001b[0;34m(\u001b[0m\u001b[0maux\u001b[0m\u001b[0;34m[\u001b[0m\u001b[0;36m0\u001b[0m\u001b[0;34m]\u001b[0m\u001b[0;34m)\u001b[0m\u001b[0;34m,\u001b[0m\u001b[0mlista\u001b[0m\u001b[0;34m.\u001b[0m\u001b[0mindex\u001b[0m\u001b[0;34m(\u001b[0m\u001b[0maux\u001b[0m\u001b[0;34m[\u001b[0m\u001b[0;36m1\u001b[0m\u001b[0;34m]\u001b[0m\u001b[0;34m)\u001b[0m\u001b[0;34m]\u001b[0m\u001b[0;34m\u001b[0m\u001b[0;34m\u001b[0m\u001b[0m\n",
            "\u001b[0;32m/usr/local/lib/python3.7/dist-packages/ipykernel/kernelbase.py\u001b[0m in \u001b[0;36mraw_input\u001b[0;34m(self, prompt)\u001b[0m\n\u001b[1;32m    861\u001b[0m             \u001b[0mself\u001b[0m\u001b[0;34m.\u001b[0m\u001b[0m_parent_ident\u001b[0m\u001b[0;34m,\u001b[0m\u001b[0;34m\u001b[0m\u001b[0;34m\u001b[0m\u001b[0m\n\u001b[1;32m    862\u001b[0m             \u001b[0mself\u001b[0m\u001b[0;34m.\u001b[0m\u001b[0m_parent_header\u001b[0m\u001b[0;34m,\u001b[0m\u001b[0;34m\u001b[0m\u001b[0;34m\u001b[0m\u001b[0m\n\u001b[0;32m--> 863\u001b[0;31m             \u001b[0mpassword\u001b[0m\u001b[0;34m=\u001b[0m\u001b[0;32mFalse\u001b[0m\u001b[0;34m,\u001b[0m\u001b[0;34m\u001b[0m\u001b[0;34m\u001b[0m\u001b[0m\n\u001b[0m\u001b[1;32m    864\u001b[0m         )\n\u001b[1;32m    865\u001b[0m \u001b[0;34m\u001b[0m\u001b[0m\n",
            "\u001b[0;32m/usr/local/lib/python3.7/dist-packages/ipykernel/kernelbase.py\u001b[0m in \u001b[0;36m_input_request\u001b[0;34m(self, prompt, ident, parent, password)\u001b[0m\n\u001b[1;32m    902\u001b[0m             \u001b[0;32mexcept\u001b[0m \u001b[0mKeyboardInterrupt\u001b[0m\u001b[0;34m:\u001b[0m\u001b[0;34m\u001b[0m\u001b[0;34m\u001b[0m\u001b[0m\n\u001b[1;32m    903\u001b[0m                 \u001b[0;31m# re-raise KeyboardInterrupt, to truncate traceback\u001b[0m\u001b[0;34m\u001b[0m\u001b[0;34m\u001b[0m\u001b[0;34m\u001b[0m\u001b[0m\n\u001b[0;32m--> 904\u001b[0;31m                 \u001b[0;32mraise\u001b[0m \u001b[0mKeyboardInterrupt\u001b[0m\u001b[0;34m(\u001b[0m\u001b[0;34m\"Interrupted by user\"\u001b[0m\u001b[0;34m)\u001b[0m \u001b[0;32mfrom\u001b[0m \u001b[0;32mNone\u001b[0m\u001b[0;34m\u001b[0m\u001b[0;34m\u001b[0m\u001b[0m\n\u001b[0m\u001b[1;32m    905\u001b[0m             \u001b[0;32mexcept\u001b[0m \u001b[0mException\u001b[0m \u001b[0;32mas\u001b[0m \u001b[0me\u001b[0m\u001b[0;34m:\u001b[0m\u001b[0;34m\u001b[0m\u001b[0;34m\u001b[0m\u001b[0m\n\u001b[1;32m    906\u001b[0m                 \u001b[0mself\u001b[0m\u001b[0;34m.\u001b[0m\u001b[0mlog\u001b[0m\u001b[0;34m.\u001b[0m\u001b[0mwarning\u001b[0m\u001b[0;34m(\u001b[0m\u001b[0;34m\"Invalid Message:\"\u001b[0m\u001b[0;34m,\u001b[0m \u001b[0mexc_info\u001b[0m\u001b[0;34m=\u001b[0m\u001b[0;32mTrue\u001b[0m\u001b[0;34m)\u001b[0m\u001b[0;34m\u001b[0m\u001b[0;34m\u001b[0m\u001b[0m\n",
            "\u001b[0;31mKeyboardInterrupt\u001b[0m: Interrupted by user"
          ]
        }
      ]
    },
    {
      "cell_type": "markdown",
      "source": [
        "Ingresar valores hasta que la suma sea mayor a 1000, informar el valor mínimo ingresado"
      ],
      "metadata": {
        "id": "QbrbFRPUkJWu"
      }
    },
    {
      "cell_type": "code",
      "source": [
        "lista=[]\n",
        "while sum(lista)<1000:\n",
        "  lista.append(int(input()))\n",
        "print(min(lista))"
      ],
      "metadata": {
        "id": "h2OS2vy4kM5u",
        "colab": {
          "base_uri": "https://localhost:8080/"
        },
        "outputId": "654b62c4-73a6-44ff-da90-c39e730731cd"
      },
      "execution_count": 9,
      "outputs": [
        {
          "output_type": "stream",
          "name": "stdout",
          "text": [
            "10\n",
            "799\n",
            "200\n",
            "10\n"
          ]
        }
      ]
    },
    {
      "cell_type": "markdown",
      "source": [
        "Se ingresan números enteros, hasta que se ingrese el número cero. Determinar los 2 valores mayores."
      ],
      "metadata": {
        "id": "KFX9cM3jlzaq"
      }
    },
    {
      "cell_type": "code",
      "source": [
        "lista=[]\n",
        "\n",
        "i = int(input())\n",
        "while i!=0:\n",
        "  lista.append(i)\n",
        "  i = int(input())\n",
        "\n",
        "for j in range(2):\n",
        "  print(max(lista))\n",
        "  lista.pop(lista.index(max(lista)))\n"
      ],
      "metadata": {
        "id": "oZBrZ5T0l1DG",
        "colab": {
          "base_uri": "https://localhost:8080/"
        },
        "outputId": "248be5a8-957e-477f-c6cf-0ef032b52bb1"
      },
      "execution_count": 12,
      "outputs": [
        {
          "output_type": "stream",
          "name": "stdout",
          "text": [
            "23\n",
            "22\n",
            "0\n",
            "23\n",
            "22\n"
          ]
        }
      ]
    },
    {
      "cell_type": "markdown",
      "source": [
        "Ingresar un valor N que determine la cantidad de números de la Secuencia de Fibonacci que se informaran (desde el cero)"
      ],
      "metadata": {
        "id": "XG0x4jMLkN4l"
      }
    },
    {
      "cell_type": "code",
      "source": [
        "from sys import last_type\n",
        "def fib(x):\n",
        "  l=[0,1]\n",
        "  if x > 2:\n",
        "    for i in range(x-2):\n",
        "      l.append(l[i]+l[i+1])\n",
        "  else:\n",
        "    while x-2<0:\n",
        "      l.pop(-1)\n",
        "      x+=1\n",
        "  return l\n",
        "\n",
        "t=fib(int(input()))\n",
        "print(' '.join(map(str,t)))"
      ],
      "metadata": {
        "id": "22f5S33DkRP2",
        "colab": {
          "base_uri": "https://localhost:8080/"
        },
        "outputId": "f8abfd82-8a40-458f-d159-afc61e2691fb"
      },
      "execution_count": 13,
      "outputs": [
        {
          "output_type": "stream",
          "name": "stdout",
          "text": [
            "5\n",
            "0 1 1 2 3\n"
          ]
        }
      ]
    },
    {
      "cell_type": "markdown",
      "source": [
        "Construir un programa que pida el ingreso un número N y calcule la suma de los primeros N números pares"
      ],
      "metadata": {
        "id": "56esRZC5oJm0"
      }
    },
    {
      "cell_type": "code",
      "source": [
        "x=0\n",
        "for i in range(1,int(input())):\n",
        "  x=x+i\n",
        "print(2*x)"
      ],
      "metadata": {
        "id": "JI5er2LYoaUI",
        "colab": {
          "base_uri": "https://localhost:8080/"
        },
        "outputId": "dba91c84-25a4-459f-c2e9-1686abb0d648"
      },
      "execution_count": 15,
      "outputs": [
        {
          "output_type": "stream",
          "name": "stdout",
          "text": [
            "124\n",
            "15252\n"
          ]
        }
      ]
    },
    {
      "cell_type": "markdown",
      "source": [
        "Escribir un programa que solicite dos números enteros e informe por pantalla todos los números pares entre ellos."
      ],
      "metadata": {
        "id": "YiznfwWNoddW"
      }
    },
    {
      "cell_type": "code",
      "source": [
        "minote=[]\n",
        "for i in range(int(input())+1,int(input())-1):\n",
        "  if i%2==0:\n",
        "    minote.append(i)\n",
        "\n",
        "print(' '.join(map(str,minote)))"
      ],
      "metadata": {
        "id": "arOxOBXjojOb",
        "colab": {
          "base_uri": "https://localhost:8080/"
        },
        "outputId": "608008d9-7d74-43e3-e9f0-9dfa3eb09817"
      },
      "execution_count": 16,
      "outputs": [
        {
          "output_type": "stream",
          "name": "stdout",
          "text": [
            "10\n",
            "20\n",
            "12 14 16 18\n"
          ]
        }
      ]
    }
  ]
}